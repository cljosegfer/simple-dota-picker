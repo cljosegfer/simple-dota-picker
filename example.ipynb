{
 "cells": [
  {
   "cell_type": "markdown",
   "metadata": {},
   "source": [
    "Update hparams with your settings:\n",
    "\n",
    "DOTABUFF address params\n",
    "patch = '7.28'\n",
    "\n",
    "STRATZ query params\n",
    "bracketIds = 'LEGEND'\n",
    "timeIds = 'Day'\n",
    "regionIds = 'SOUTH_AMERICA'\n",
    "gameModeIds = 'ALL_PICK_RANKED'\n",
    "\n",
    "Group of heroes to calculate odds\n",
    "favorite_heroes = ['Naga Siren',\n",
    "                   'Anti-Mage',\n",
    "                   'Terrorblade',\n",
    "                   'Arc Warden',\n",
    "                   'Chaos Knight',\n",
    "                   'Drow Ranger',\n",
    "                   'Ember Spirit',\n",
    "                   'Faceless Void',\n",
    "                   'Gyrocopter',\n",
    "                   'Juggernaut',\n",
    "                   'Lifestealer',\n",
    "                   'Luna',\n",
    "                   'Morphling',\n",
    "                   'Phantom Lancer',\n",
    "                   'Spectre',\n",
    "                   'Sven',\n",
    "                   'Troll Warlord',\n",
    "                   'Wraith King']"
   ]
  },
  {
   "cell_type": "code",
   "execution_count": 3,
   "metadata": {},
   "outputs": [
    {
     "name": "stdout",
     "output_type": "stream",
     "text": [
      "Reading Naga Siren data, 1 / 18\n",
      "Reading Anti-Mage data, 2 / 18\n",
      "Reading Terrorblade data, 3 / 18\n",
      "Reading Arc Warden data, 4 / 18\n",
      "Reading Chaos Knight data, 5 / 18\n",
      "Reading Drow Ranger data, 6 / 18\n",
      "Reading Ember Spirit data, 7 / 18\n",
      "Reading Faceless Void data, 8 / 18\n",
      "Reading Gyrocopter data, 9 / 18\n",
      "Reading Juggernaut data, 10 / 18\n",
      "Reading Lifestealer data, 11 / 18\n",
      "Reading Luna data, 12 / 18\n",
      "Reading Morphling data, 13 / 18\n",
      "Reading Phantom Lancer data, 14 / 18\n",
      "Reading Spectre data, 15 / 18\n",
      "Reading Sven data, 16 / 18\n",
      "Reading Troll Warlord data, 17 / 18\n",
      "Reading Wraith King data, 18 / 18\n"
     ]
    }
   ],
   "source": [
    "# Create reference table\n",
    "!python dbuff_scrap.py"
   ]
  },
  {
   "cell_type": "code",
   "execution_count": 6,
   "metadata": {},
   "outputs": [],
   "source": [
    "# Create pickrate table and include the random/unknown option\n",
    "!python stratz_scrap.py\n",
    "!python random_calculator.py"
   ]
  },
  {
   "cell_type": "code",
   "execution_count": null,
   "metadata": {},
   "outputs": [],
   "source": [
    "# Now you're all set to run predictor anytime, run the scrape again to update data\n",
    "!python predictor.py"
   ]
  }
 ],
 "metadata": {
  "kernelspec": {
   "display_name": "Python 3",
   "language": "python",
   "name": "python3"
  },
  "language_info": {
   "codemirror_mode": {
    "name": "ipython",
    "version": 3
   },
   "file_extension": ".py",
   "mimetype": "text/x-python",
   "name": "python",
   "nbconvert_exporter": "python",
   "pygments_lexer": "ipython3",
   "version": "3.8.5"
  }
 },
 "nbformat": 4,
 "nbformat_minor": 4
}
